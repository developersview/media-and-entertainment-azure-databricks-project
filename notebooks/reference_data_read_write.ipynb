{
 "cells": [
  {
   "cell_type": "code",
   "execution_count": 0,
   "metadata": {
    "application/vnd.databricks.v1+cell": {
     "cellMetadata": {},
     "inputWidgets": {},
     "nuid": "5fe05a6b-efbb-4af3-aec9-14cf1f20f023",
     "showTitle": false,
     "tableResultSettingsMap": {},
     "title": ""
    }
   },
   "outputs": [],
   "source": [
    "cast_file_path = \"abfss://bronze@datalakeprojectnetflix.dfs.core.windows.net/netflix_cast/netflix_cast.csv\"\n",
    "category_file_path = \"abfss://bronze@datalakeprojectnetflix.dfs.core.windows.net/netflix_category/netflix_category.csv\"\n",
    "countries_file_path = \"abfss://bronze@datalakeprojectnetflix.dfs.core.windows.net/netflix_countries/netflix_countries.csv\"\n",
    "directors_file_path = \"abfss://bronze@datalakeprojectnetflix.dfs.core.windows.net/netflix_directors/netflix_directors.csv\"\n",
    "titles_file_path = \"abfss://raw@datalakeprojectnetflix.dfs.core.windows.net/netflix_titles.csv\""
   ]
  },
  {
   "cell_type": "code",
   "execution_count": 0,
   "metadata": {
    "application/vnd.databricks.v1+cell": {
     "cellMetadata": {},
     "inputWidgets": {},
     "nuid": "a7fc4971-b55e-4fda-862f-0dccbf1c2a86",
     "showTitle": false,
     "tableResultSettingsMap": {},
     "title": ""
    }
   },
   "outputs": [],
   "source": [
    "cast_df = spark.read.csv(cast_file_path, header=True, inferSchema=True)\n",
    "categories_df = spark.read.csv(category_file_path, header=True, inferSchema=True)\n",
    "countries_df = spark.read.csv(countries_file_path, header=True, inferSchema=True)\n",
    "directors_df = spark.read.csv(directors_file_path, header=True, inferSchema=True)\n",
    "titles_df = spark.read.csv(titles_file_path, header=True, inferSchema=True)"
   ]
  },
  {
   "cell_type": "code",
   "execution_count": 0,
   "metadata": {
    "application/vnd.databricks.v1+cell": {
     "cellMetadata": {},
     "inputWidgets": {},
     "nuid": "a25fb21d-914c-4a0c-a055-2ecf88cf9f26",
     "showTitle": false,
     "tableResultSettingsMap": {},
     "title": ""
    }
   },
   "outputs": [],
   "source": [
    "print(\"===================Netflix Cast===================\")\n",
    "cast_df.printSchema()\n",
    "cast_df.show(5)\n",
    "print()\n",
    "\n",
    "print(\"===================Netflix Category===================\")\n",
    "categories_df.printSchema()\n",
    "categories_df.show(5)\n",
    "print()\n",
    "\n",
    "print(\"===================Netflix Countries===================\")\n",
    "countries_df.printSchema()\n",
    "countries_df.show(5)\n",
    "print()\n",
    "\n",
    "print(\"===================Netflix Directors===================\")\n",
    "directors_df.printSchema()\n",
    "directors_df.show(5)\n",
    "print()\n",
    "\n",
    "print(\"===================Netflix Titles===================\")\n",
    "titles_df.printSchema()\n",
    "titles_df.show(5)\n",
    "print()\n"
   ]
  },
  {
   "cell_type": "code",
   "execution_count": 0,
   "metadata": {
    "application/vnd.databricks.v1+cell": {
     "cellMetadata": {},
     "inputWidgets": {},
     "nuid": "e9511aef-f29a-4649-b925-f6d4506246a3",
     "showTitle": false,
     "tableResultSettingsMap": {},
     "title": ""
    }
   },
   "outputs": [],
   "source": [
    "cast_df.write.format(\"delta\").mode(\"overwrite\")\\\n",
    "    .option(\"path\", f\"abfss://silver@datalakeprojectnetflix.dfs.core.windows.net/netflix_cast\")\\\n",
    "    .save()"
   ]
  }
 ],
 "metadata": {
  "application/vnd.databricks.v1+notebook": {
   "computePreferences": null,
   "dashboards": [],
   "environmentMetadata": {
    "base_environment": "",
    "environment_version": "2"
   },
   "inputWidgetPreferences": null,
   "language": "python",
   "notebookMetadata": {
    "pythonIndentUnit": 4
   },
   "notebookName": "reference_data_read_write",
   "widgets": {}
  },
  "language_info": {
   "name": "python"
  }
 },
 "nbformat": 4,
 "nbformat_minor": 0
}