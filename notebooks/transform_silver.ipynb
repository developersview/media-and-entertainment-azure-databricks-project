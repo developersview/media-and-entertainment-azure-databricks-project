{
 "cells": [
  {
   "cell_type": "markdown",
   "id": "9516cd33",
   "metadata": {},
   "source": [
    "# Silver Layer Data Transformation"
   ]
  },
  {
   "cell_type": "markdown",
   "id": "f6fb2d72",
   "metadata": {},
   "source": [
    "### Netflix Cast data"
   ]
  },
  {
   "cell_type": "code",
   "execution_count": 1,
   "id": "d0617c6f",
   "metadata": {},
   "outputs": [
    {
     "name": "stdout",
     "output_type": "stream",
     "text": [
      "Silver Layer Transformation Starting...\n"
     ]
    }
   ],
   "source": [
    "print(\"Silver Layer Transformation Starting...\")"
   ]
  },
  {
   "cell_type": "code",
   "execution_count": null,
   "id": "6e21a5f0",
   "metadata": {},
   "outputs": [],
   "source": [
    "cast_df = spark.read.format(\"delta\")\\\n",
    "            .option(\"header\", \"true\")\\\n",
    "            .option(\"inferSchema\", \"true\")\\\n",
    "            .load(f\"abfss://silver@datalakeprojectnetflix.dfs.core.windows.net/netflix_cast\")"
   ]
  },
  {
   "cell_type": "markdown",
   "id": "15a670e1",
   "metadata": {},
   "source": [
    "### Netflix Category data"
   ]
  },
  {
   "cell_type": "code",
   "execution_count": null,
   "id": "e870f4b1",
   "metadata": {},
   "outputs": [],
   "source": [
    "category_df = spark.read.format(\"delta\")\\\n",
    "            .option(\"header\", \"true\")\\\n",
    "            .option(\"inferSchema\", \"true\")\\\n",
    "            .load(f\"abfss://silver@datalakeprojectnetflix.dfs.core.windows.net/netflix_category\")"
   ]
  },
  {
   "cell_type": "markdown",
   "id": "b224dc65",
   "metadata": {},
   "source": [
    "### Netflix Countries data"
   ]
  },
  {
   "cell_type": "code",
   "execution_count": null,
   "id": "c74ed03f",
   "metadata": {},
   "outputs": [],
   "source": [
    "countries_df = spark.read.format(\"delta\")\\\n",
    "            .option(\"header\", \"true\")\\\n",
    "            .option(\"inferSchema\", \"true\")\\\n",
    "            .load(f\"abfss://silver@datalakeprojectnetflix.dfs.core.windows.net/netflix_countries\")"
   ]
  },
  {
   "cell_type": "markdown",
   "id": "ac6c8894",
   "metadata": {},
   "source": [
    "### Netflix Directors data"
   ]
  },
  {
   "cell_type": "code",
   "execution_count": null,
   "id": "ccb1b132",
   "metadata": {},
   "outputs": [],
   "source": [
    "directors_df = spark.read.format(\"delta\")\\\n",
    "            .option(\"header\", \"true\")\\\n",
    "            .option(\"inferSchema\", \"true\")\\\n",
    "            .load(f\"abfss://silver@datalakeprojectnetflix.dfs.core.windows.net/netflix_directors\")"
   ]
  },
  {
   "cell_type": "markdown",
   "id": "a1673077",
   "metadata": {},
   "source": [
    "### Netflix Titles data"
   ]
  },
  {
   "cell_type": "code",
   "execution_count": null,
   "id": "2181543b",
   "metadata": {},
   "outputs": [],
   "source": [
    "titles_df = spark.read.format(\"csv\")\\\n",
    "            .option(\"header\", \"true\")\\\n",
    "            .option(\"inferSchema\", \"true\")\\\n",
    "            .load(f\"abfss://raw@datalakeprojectnetflix.dfs.core.windows.net\")"
   ]
  },
  {
   "cell_type": "code",
   "execution_count": null,
   "id": "4ea91734",
   "metadata": {},
   "outputs": [],
   "source": [
    "titles_df.printSchema()\n",
    "display(titles_df)"
   ]
  },
  {
   "cell_type": "markdown",
   "id": "62a3897e",
   "metadata": {},
   "source": [
    "## Transformation"
   ]
  },
  {
   "cell_type": "code",
   "execution_count": null,
   "id": "26d3fe35",
   "metadata": {},
   "outputs": [],
   "source": [
    "from pyspark.sql.functions import *\n",
    "from pyspark.sql.types import *"
   ]
  },
  {
   "cell_type": "code",
   "execution_count": null,
   "id": "45a46e0f",
   "metadata": {},
   "outputs": [],
   "source": [
    "titles_df = titles_df.fillna({\"duration_minutes\": 0, \"duration_seasons\": 0})\n",
    "display(titles_df)"
   ]
  },
  {
   "cell_type": "code",
   "execution_count": null,
   "id": "3cb768c9",
   "metadata": {},
   "outputs": [],
   "source": [
    "titles_df = titles_df.withColumn(\"duration_minutes\", col(\"duration_minutes\").cast(IntegerType()))\\\n",
    "                     .withColumn(\"duration_seasons\", col(\"duration_seasons\").cast(IntegerType()))\n",
    "display(titles_df)\n"
   ]
  },
  {
   "cell_type": "code",
   "execution_count": null,
   "id": "42352db8",
   "metadata": {},
   "outputs": [],
   "source": [
    "titles_df = titles_df.withColumn(\"ShortTitle\", split(col(\"title\"), \":\").getItem(0))\n",
    "display(titles_df)"
   ]
  },
  {
   "cell_type": "code",
   "execution_count": null,
   "id": "d32d7058",
   "metadata": {},
   "outputs": [],
   "source": [
    "titles_df = titles_df.withColumn(\"rating_new\", split(col(\"rating\"), \"-\").getItem(0))\n",
    "display(titles_df)"
   ]
  },
  {
   "cell_type": "code",
   "execution_count": null,
   "id": "0ee276d8",
   "metadata": {},
   "outputs": [],
   "source": [
    "from pyspark.sql.window import Window"
   ]
  },
  {
   "cell_type": "code",
   "execution_count": null,
   "id": "48f11d3f",
   "metadata": {},
   "outputs": [],
   "source": [
    "window = Window.orderBy(col(\"duration_minutes\").desc())\n",
    "titles_df = titles_df.withColumn(\"rank_duration_minutes\", dense_rank().over(window))\n",
    "display(titles_df)"
   ]
  },
  {
   "cell_type": "code",
   "execution_count": null,
   "id": "912cf1ed",
   "metadata": {},
   "outputs": [],
   "source": [
    "titles_df = titles_df.dropDuplicates([\"show_id\"])\n",
    "display(titles_df)"
   ]
  },
  {
   "cell_type": "code",
   "execution_count": null,
   "id": "542f39a7",
   "metadata": {},
   "outputs": [],
   "source": [
    "titles_df = titles_df.fillna({\"rating_new\":\"R\"})"
   ]
  },
  {
   "cell_type": "code",
   "execution_count": null,
   "id": "c17cb14b",
   "metadata": {},
   "outputs": [],
   "source": [
    "titles_df.write.format(\"delta\").mode(\"overwrite\")\\\n",
    "    .option(\"path\", f\"abfss://silver@datalakeprojectnetflix.dfs.core.windows.net/netflix_titles\")\\\n",
    "    .save()"
   ]
  },
  {
   "cell_type": "code",
   "execution_count": 2,
   "id": "515c5196",
   "metadata": {},
   "outputs": [
    {
     "name": "stdout",
     "output_type": "stream",
     "text": [
      "Silver Layer Transformation completed.\n"
     ]
    }
   ],
   "source": [
    "print(\"Silver Layer Transformation completed.\")"
   ]
  }
 ],
 "metadata": {
  "kernelspec": {
   "display_name": "base",
   "language": "python",
   "name": "python3"
  },
  "language_info": {
   "codemirror_mode": {
    "name": "ipython",
    "version": 3
   },
   "file_extension": ".py",
   "mimetype": "text/x-python",
   "name": "python",
   "nbconvert_exporter": "python",
   "pygments_lexer": "ipython3",
   "version": "3.12.3"
  }
 },
 "nbformat": 4,
 "nbformat_minor": 5
}
